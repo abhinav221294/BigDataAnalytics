{
 "cells": [
  {
   "cell_type": "code",
   "execution_count": 23,
   "id": "3fb7850f",
   "metadata": {},
   "outputs": [],
   "source": [
    "from pyspark.sql import SparkSession"
   ]
  },
  {
   "cell_type": "code",
   "execution_count": 24,
   "id": "36588621",
   "metadata": {},
   "outputs": [],
   "source": [
    "spark = SparkSession.builder.appName('lrex').getOrCreate()"
   ]
  },
  {
   "cell_type": "code",
   "execution_count": 25,
   "id": "97382066",
   "metadata": {},
   "outputs": [],
   "source": [
    "from pyspark.ml.regression import LinearRegression"
   ]
  },
  {
   "cell_type": "code",
   "execution_count": 26,
   "id": "7e80083c",
   "metadata": {},
   "outputs": [
    {
     "name": "stdout",
     "output_type": "stream",
     "text": [
      "+-------------------+--------------------+\n",
      "|              label|            features|\n",
      "+-------------------+--------------------+\n",
      "| -9.490009878824548|(10,[0,1,2,3,4,5,...|\n",
      "| 0.2577820163584905|(10,[0,1,2,3,4,5,...|\n",
      "| -4.438869807456516|(10,[0,1,2,3,4,5,...|\n",
      "|-19.782762789614537|(10,[0,1,2,3,4,5,...|\n",
      "| -7.966593841555266|(10,[0,1,2,3,4,5,...|\n",
      "| -7.896274316726144|(10,[0,1,2,3,4,5,...|\n",
      "| -8.464803554195287|(10,[0,1,2,3,4,5,...|\n",
      "| 2.1214592666251364|(10,[0,1,2,3,4,5,...|\n",
      "| 1.0720117616524107|(10,[0,1,2,3,4,5,...|\n",
      "|-13.772441561702871|(10,[0,1,2,3,4,5,...|\n",
      "| -5.082010756207233|(10,[0,1,2,3,4,5,...|\n",
      "|  7.887786536531237|(10,[0,1,2,3,4,5,...|\n",
      "| 14.323146365332388|(10,[0,1,2,3,4,5,...|\n",
      "|-20.057482615789212|(10,[0,1,2,3,4,5,...|\n",
      "|-0.8995693247765151|(10,[0,1,2,3,4,5,...|\n",
      "| -19.16829262296376|(10,[0,1,2,3,4,5,...|\n",
      "|  5.601801561245534|(10,[0,1,2,3,4,5,...|\n",
      "|-3.2256352187273354|(10,[0,1,2,3,4,5,...|\n",
      "| 1.5299675726687754|(10,[0,1,2,3,4,5,...|\n",
      "| -0.250102447941961|(10,[0,1,2,3,4,5,...|\n",
      "+-------------------+--------------------+\n",
      "only showing top 20 rows\n",
      "\n"
     ]
    }
   ],
   "source": [
    "training = spark.read.format(source='libsvm').load('sample_linear_regression_data.txt')\n",
    "training.show()"
   ]
  },
  {
   "cell_type": "code",
   "execution_count": 27,
   "id": "a663855e",
   "metadata": {},
   "outputs": [],
   "source": [
    "lr = LinearRegression(featuresCol='features',labelCol='label',predictionCol='prediction')\n",
    "lrModel = lr.fit(training)"
   ]
  },
  {
   "cell_type": "code",
   "execution_count": 28,
   "id": "833b9f9e",
   "metadata": {},
   "outputs": [
    {
     "data": {
      "text/plain": [
       "DenseVector([0.0073, 0.8314, -0.8095, 2.4412, 0.5192, 1.1535, -0.2989, -0.5129, -0.6197, 0.6956])"
      ]
     },
     "execution_count": 28,
     "metadata": {},
     "output_type": "execute_result"
    }
   ],
   "source": [
    "lrModel.coefficients"
   ]
  },
  {
   "cell_type": "code",
   "execution_count": 29,
   "id": "0e1b47ce",
   "metadata": {},
   "outputs": [
    {
     "data": {
      "text/plain": [
       "0.14228558260358093"
      ]
     },
     "execution_count": 29,
     "metadata": {},
     "output_type": "execute_result"
    }
   ],
   "source": [
    "lrModel.intercept"
   ]
  },
  {
   "cell_type": "code",
   "execution_count": 30,
   "id": "f6ac1c6a",
   "metadata": {},
   "outputs": [
    {
     "data": {
      "text/plain": [
       "0.027839179518600154"
      ]
     },
     "execution_count": 30,
     "metadata": {},
     "output_type": "execute_result"
    }
   ],
   "source": [
    "training_summary = lrModel.summary\n",
    "training_summary.r2"
   ]
  },
  {
   "cell_type": "code",
   "execution_count": 31,
   "id": "c22d0383",
   "metadata": {},
   "outputs": [
    {
     "data": {
      "text/plain": [
       "0.007999162774081858"
      ]
     },
     "execution_count": 31,
     "metadata": {},
     "output_type": "execute_result"
    }
   ],
   "source": [
    "training_summary.r2adj"
   ]
  },
  {
   "cell_type": "code",
   "execution_count": 32,
   "id": "a11264eb",
   "metadata": {},
   "outputs": [
    {
     "data": {
      "text/plain": [
       "10.16309157133015"
      ]
     },
     "execution_count": 32,
     "metadata": {},
     "output_type": "execute_result"
    }
   ],
   "source": [
    "training_summary.rootMeanSquaredError"
   ]
  },
  {
   "cell_type": "code",
   "execution_count": 33,
   "id": "5e6d4f50",
   "metadata": {},
   "outputs": [
    {
     "data": {
      "text/plain": [
       "[0.9927505031240562,\n",
       " 0.30967074330990396,\n",
       " 0.3178269194409711,\n",
       " 0.003972477331573909,\n",
       " 0.5201486327242175,\n",
       " 0.16213017210149872,\n",
       " 0.7102819001865635,\n",
       " 0.5266812209137877,\n",
       " 0.46256007153356316,\n",
       " 0.37825808848978526,\n",
       " 0.7592692146070568]"
      ]
     },
     "execution_count": 33,
     "metadata": {},
     "output_type": "execute_result"
    }
   ],
   "source": [
    "training_summary.pValues"
   ]
  },
  {
   "cell_type": "code",
   "execution_count": 34,
   "id": "590af49e",
   "metadata": {},
   "outputs": [
    {
     "data": {
      "text/plain": [
       "(DataFrame[label: double, features: vector],\n",
       " DataFrame[label: double, features: vector])"
      ]
     },
     "execution_count": 34,
     "metadata": {},
     "output_type": "execute_result"
    }
   ],
   "source": [
    "all_data = spark.read.format('libsvm').load('sample_linear_regression_data.txt')\n",
    "train_data,test_data = all_data.randomSplit([0.7,0.3])\n",
    "train_data,test_data"
   ]
  },
  {
   "cell_type": "code",
   "execution_count": 35,
   "id": "e985bedb",
   "metadata": {},
   "outputs": [
    {
     "name": "stdout",
     "output_type": "stream",
     "text": [
      "+-------+-------------------+\n",
      "|summary|              label|\n",
      "+-------+-------------------+\n",
      "|  count|                338|\n",
      "|   mean| 0.7980977307701485|\n",
      "| stddev| 10.352331006454099|\n",
      "|    min|-28.571478869743427|\n",
      "|    max|  27.78383192005107|\n",
      "+-------+-------------------+\n",
      "\n"
     ]
    }
   ],
   "source": [
    "train_data.describe().show()"
   ]
  },
  {
   "cell_type": "code",
   "execution_count": 36,
   "id": "756d7668",
   "metadata": {},
   "outputs": [
    {
     "name": "stdout",
     "output_type": "stream",
     "text": [
      "+-------+-------------------+\n",
      "|summary|              label|\n",
      "+-------+-------------------+\n",
      "|  count|                163|\n",
      "|   mean|-0.8653725955866258|\n",
      "| stddev| 10.186084649372049|\n",
      "|    min|-28.046018037776633|\n",
      "|    max| 24.290551295953957|\n",
      "+-------+-------------------+\n",
      "\n"
     ]
    }
   ],
   "source": [
    "test_data.describe().show()"
   ]
  },
  {
   "cell_type": "code",
   "execution_count": 37,
   "id": "fd65299f",
   "metadata": {},
   "outputs": [],
   "source": [
    "correct_model = lr.fit(train_data)"
   ]
  },
  {
   "cell_type": "code",
   "execution_count": 38,
   "id": "470d900d",
   "metadata": {},
   "outputs": [
    {
     "name": "stdout",
     "output_type": "stream",
     "text": [
      "+-------------------+\n",
      "|          residuals|\n",
      "+-------------------+\n",
      "|-27.418156907367205|\n",
      "|-24.129873698003173|\n",
      "|-28.530068493915213|\n",
      "|-18.077998110521577|\n",
      "|-21.652949437142652|\n",
      "| -20.71766954607159|\n",
      "| -19.15702011165671|\n",
      "|-20.865975433000774|\n",
      "|-20.164811955146742|\n",
      "|-16.347337260140854|\n",
      "| -18.26007349532096|\n",
      "|-18.098157249938815|\n",
      "|-13.221676518050916|\n",
      "|-17.585649642296016|\n",
      "| -16.93693721503734|\n",
      "|-17.104842281881517|\n",
      "| -15.61430793941045|\n",
      "|-18.628524259206007|\n",
      "|-18.020679669723318|\n",
      "|-14.056438031677954|\n",
      "+-------------------+\n",
      "only showing top 20 rows\n",
      "\n"
     ]
    }
   ],
   "source": [
    "test_results = correct_model.evaluate(test_data)\n",
    "test_results.residuals.show()"
   ]
  },
  {
   "cell_type": "code",
   "execution_count": 39,
   "id": "c11bf60d",
   "metadata": {},
   "outputs": [
    {
     "name": "stdout",
     "output_type": "stream",
     "text": [
      "+-------------------+\n",
      "|          residuals|\n",
      "+-------------------+\n",
      "|-27.418156907367205|\n",
      "|-24.129873698003173|\n",
      "|-28.530068493915213|\n",
      "|-18.077998110521577|\n",
      "|-21.652949437142652|\n",
      "| -20.71766954607159|\n",
      "| -19.15702011165671|\n",
      "|-20.865975433000774|\n",
      "|-20.164811955146742|\n",
      "|-16.347337260140854|\n",
      "| -18.26007349532096|\n",
      "|-18.098157249938815|\n",
      "|-13.221676518050916|\n",
      "|-17.585649642296016|\n",
      "| -16.93693721503734|\n",
      "|-17.104842281881517|\n",
      "| -15.61430793941045|\n",
      "|-18.628524259206007|\n",
      "|-18.020679669723318|\n",
      "|-14.056438031677954|\n",
      "+-------------------+\n",
      "only showing top 20 rows\n",
      "\n"
     ]
    }
   ],
   "source": [
    "test_results.residuals.show()"
   ]
  },
  {
   "cell_type": "code",
   "execution_count": 40,
   "id": "a7a6800c",
   "metadata": {},
   "outputs": [],
   "source": [
    "correct_model = lr.fit(train_data)\n",
    "test_result = correct_model.evaluate(test_data)\n",
    "# fit and predicting model"
   ]
  },
  {
   "cell_type": "code",
   "execution_count": 41,
   "id": "75058ed1",
   "metadata": {},
   "outputs": [
    {
     "data": {
      "text/plain": [
       "10.640414188503442"
      ]
     },
     "execution_count": 41,
     "metadata": {},
     "output_type": "execute_result"
    }
   ],
   "source": [
    "test_result.rootMeanSquaredError"
   ]
  },
  {
   "cell_type": "code",
   "execution_count": 42,
   "id": "98a69d29",
   "metadata": {},
   "outputs": [
    {
     "name": "stdout",
     "output_type": "stream",
     "text": [
      "+--------------------+\n",
      "|            features|\n",
      "+--------------------+\n",
      "|(10,[0,1,2,3,4,5,...|\n",
      "|(10,[0,1,2,3,4,5,...|\n",
      "|(10,[0,1,2,3,4,5,...|\n",
      "|(10,[0,1,2,3,4,5,...|\n",
      "|(10,[0,1,2,3,4,5,...|\n",
      "|(10,[0,1,2,3,4,5,...|\n",
      "|(10,[0,1,2,3,4,5,...|\n",
      "|(10,[0,1,2,3,4,5,...|\n",
      "|(10,[0,1,2,3,4,5,...|\n",
      "|(10,[0,1,2,3,4,5,...|\n",
      "|(10,[0,1,2,3,4,5,...|\n",
      "|(10,[0,1,2,3,4,5,...|\n",
      "|(10,[0,1,2,3,4,5,...|\n",
      "|(10,[0,1,2,3,4,5,...|\n",
      "|(10,[0,1,2,3,4,5,...|\n",
      "|(10,[0,1,2,3,4,5,...|\n",
      "|(10,[0,1,2,3,4,5,...|\n",
      "|(10,[0,1,2,3,4,5,...|\n",
      "|(10,[0,1,2,3,4,5,...|\n",
      "|(10,[0,1,2,3,4,5,...|\n",
      "+--------------------+\n",
      "only showing top 20 rows\n",
      "\n"
     ]
    }
   ],
   "source": [
    "unlabelel_data = test_data.select('features')\n",
    "unlabelel_data.show()"
   ]
  },
  {
   "cell_type": "code",
   "execution_count": 43,
   "id": "3227a670",
   "metadata": {},
   "outputs": [
    {
     "name": "stdout",
     "output_type": "stream",
     "text": [
      "+--------------------+--------------------+\n",
      "|            features|          prediction|\n",
      "+--------------------+--------------------+\n",
      "|(10,[0,1,2,3,4,5,...| -0.6278611304094268|\n",
      "|(10,[0,1,2,3,4,5,...|    0.64243357706666|\n",
      "|(10,[0,1,2,3,4,5,...|  5.5802425577191395|\n",
      "|(10,[0,1,2,3,4,5,...|  -4.759462306397763|\n",
      "|(10,[0,1,2,3,4,5,...|  1.5954668213534402|\n",
      "|(10,[0,1,2,3,4,5,...|  0.9349067564570522|\n",
      "|(10,[0,1,2,3,4,5,...|-0.24531591855784413|\n",
      "|(10,[0,1,2,3,4,5,...|  3.4373008620612664|\n",
      "|(10,[0,1,2,3,4,5,...|   3.099412329270728|\n",
      "|(10,[0,1,2,3,4,5,...|  -0.679155004068692|\n",
      "|(10,[0,1,2,3,4,5,...|  1.5678664740098534|\n",
      "|(10,[0,1,2,3,4,5,...|  1.9468078986617035|\n",
      "|(10,[0,1,2,3,4,5,...| -2.7298360477436563|\n",
      "|(10,[0,1,2,3,4,5,...|  1.7236403147254575|\n",
      "|(10,[0,1,2,3,4,5,...|  1.2048489427980944|\n",
      "|(10,[0,1,2,3,4,5,...|  1.3813266688329495|\n",
      "|(10,[0,1,2,3,4,5,...|  0.2384502160981537|\n",
      "|(10,[0,1,2,3,4,5,...|  3.2689793793733295|\n",
      "|(10,[0,1,2,3,4,5,...|  2.6859121898009755|\n",
      "|(10,[0,1,2,3,4,5,...| -0.7063202212531727|\n",
      "+--------------------+--------------------+\n",
      "only showing top 20 rows\n",
      "\n"
     ]
    }
   ],
   "source": [
    "predictions = correct_model.transform(unlabelel_data)\n",
    "predictions.show()"
   ]
  },
  {
   "cell_type": "code",
   "execution_count": null,
   "id": "5160b452",
   "metadata": {},
   "outputs": [],
   "source": []
  },
  {
   "cell_type": "code",
   "execution_count": null,
   "id": "31d04493",
   "metadata": {},
   "outputs": [],
   "source": []
  },
  {
   "cell_type": "code",
   "execution_count": null,
   "id": "388121bd",
   "metadata": {},
   "outputs": [],
   "source": []
  },
  {
   "cell_type": "code",
   "execution_count": null,
   "id": "ac48c70c",
   "metadata": {},
   "outputs": [],
   "source": []
  },
  {
   "cell_type": "code",
   "execution_count": null,
   "id": "6e94b205",
   "metadata": {},
   "outputs": [],
   "source": []
  },
  {
   "cell_type": "code",
   "execution_count": null,
   "id": "f942614e",
   "metadata": {},
   "outputs": [],
   "source": []
  }
 ],
 "metadata": {
  "kernelspec": {
   "display_name": "Python 3 (ipykernel)",
   "language": "python",
   "name": "python3"
  },
  "language_info": {
   "codemirror_mode": {
    "name": "ipython",
    "version": 3
   },
   "file_extension": ".py",
   "mimetype": "text/x-python",
   "name": "python",
   "nbconvert_exporter": "python",
   "pygments_lexer": "ipython3",
   "version": "3.9.7"
  }
 },
 "nbformat": 4,
 "nbformat_minor": 5
}
